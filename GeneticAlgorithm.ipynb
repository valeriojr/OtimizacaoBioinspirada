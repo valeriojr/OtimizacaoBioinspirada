{
 "cells": [
  {
   "cell_type": "markdown",
   "id": "a38dccc5-4d67-4675-afe9-c013c547ce8f",
   "metadata": {
    "tags": []
   },
   "source": [
    "## Código de Gray"
   ]
  },
  {
   "cell_type": "code",
   "execution_count": 2,
   "id": "b3d6876b-f8c0-48a9-bbd3-0eda681778ff",
   "metadata": {
    "tags": []
   },
   "outputs": [],
   "source": [
    "function find_msb(n, size)\n",
    "    for i in size - 1 : -1 : 0\n",
    "        if n & (1 << i) != 0\n",
    "            return i\n",
    "        end\n",
    "    end\n",
    "    \n",
    "    return 0\n",
    "end\n",
    "\n",
    "function is_bit_set(n, k) \n",
    "    return n & (1 << k) != 0\n",
    "end\n",
    "    \n",
    "function set_bit(n, k)\n",
    "    return n | (1 << k)\n",
    "end\n",
    "\n",
    "function binary_to_gray_repr(n)\n",
    "    if n == 0\n",
    "        return n\n",
    "    end\n",
    "    \n",
    "    size = sizeof(n) * 8\n",
    "        \n",
    "    msb = find_msb(n, size)\n",
    "    n_gray = n\n",
    "    \n",
    "    for i in size-2:-1:0\n",
    "        if is_bit_set(n, i) != is_bit_set(n, i + 1)\n",
    "            n_gray = set_bit(n_gray, i)\n",
    "        else\n",
    "            n_gray = n_gray & ~(1 << i)\n",
    "        end\n",
    "    end\n",
    "    n_gray = set_bit(n_gray, msb)\n",
    "    \n",
    "    return n_gray\n",
    "end;"
   ]
  },
  {
   "cell_type": "code",
   "execution_count": 3,
   "id": "31f0d725-cc55-4b0d-834f-3fe7bbfc585b",
   "metadata": {
    "tags": []
   },
   "outputs": [],
   "source": [
    "bin = 0:255;\n",
    "gray = binary_to_gray_repr.(bin);\n",
    "bin2gray = Dict{UInt8, UInt8}(bin .=> gray);\n",
    "gray2bin = Dict{UInt8, UInt8}(gray .=> bin);"
   ]
  },
  {
   "cell_type": "markdown",
   "id": "f9664845-e3e7-4de0-aa33-7721e243426b",
   "metadata": {},
   "source": [
    "## Problema"
   ]
  },
  {
   "cell_type": "code",
   "execution_count": 4,
   "id": "8dcdcae4-d17b-47ae-8c5f-d06a5208e193",
   "metadata": {},
   "outputs": [
    {
     "data": {
      "text/plain": [
       "example_program (generic function with 1 method)"
      ]
     },
     "execution_count": 4,
     "metadata": {},
     "output_type": "execute_result"
    }
   ],
   "source": [
    "function example_program(x)\n",
    "    return sin(π * x / 256)\n",
    "end"
   ]
  },
  {
   "cell_type": "markdown",
   "id": "696b3865-6fd3-4617-b8e5-404c50b18e4a",
   "metadata": {},
   "source": [
    "## Seleção"
   ]
  },
  {
   "cell_type": "code",
   "execution_count": 40,
   "id": "82782e34-6845-4cb9-9e2b-36f6fd264d86",
   "metadata": {},
   "outputs": [
    {
     "data": {
      "text/plain": [
       "select (generic function with 1 method)"
      ]
     },
     "execution_count": 40,
     "metadata": {},
     "output_type": "execute_result"
    }
   ],
   "source": [
    "function select(population, fitness)\n",
    "    fitness_normalized = fitness ./ sum(fitness)\n",
    "    \n",
    "    fitness_cumulative = fitness_normalized\n",
    "    for i in 2:length(population)\n",
    "        fitness_cumulative[i] += fitness_cumulative[i - 1]\n",
    "    end\n",
    "\n",
    "    prob = rand(Float64, length(population))\n",
    "    selected = [searchsortedfirst(fitness_cumulative, p) for p ∈ prob]\n",
    "    \n",
    "    return population[selected]    \n",
    "end"
   ]
  },
  {
   "cell_type": "markdown",
   "id": "f66d4f4e-c8b5-4b05-b944-36ffc904e5a9",
   "metadata": {},
   "source": [
    "## Crossover"
   ]
  },
  {
   "cell_type": "code",
   "execution_count": 307,
   "id": "38d62d1b-7b83-4cdd-8e20-c8b29db71821",
   "metadata": {},
   "outputs": [
    {
     "data": {
      "text/plain": [
       "breed (generic function with 1 method)"
      ]
     },
     "execution_count": 307,
     "metadata": {},
     "output_type": "execute_result"
    }
   ],
   "source": [
    "function crossover(a, b)\n",
    "    cromossome_size = sizeof(a) * 8\n",
    "    # One-point crossover\n",
    "    k = rand(0:cromossome_size - 1)\n",
    "    mask = (2 ^ k) - 1\n",
    "    \n",
    "    return (mask & a) | (~mask & b)\n",
    "end\n",
    "\n",
    "function breed(parents, crossover_rate)\n",
    "    offspring = copy(parents)\n",
    "    \n",
    "    for (i₁, i₂) ∈ zip(1:2:length(parents) - 1, 2:2:length(parents))\n",
    "        parent₁ = rand(parents)\n",
    "        parent₂ = rand(parents)\n",
    "        \n",
    "        offspring[i₁] = parent₁\n",
    "        offspring[i₂] = parent₂\n",
    "        \n",
    "        if rand() > crossover_rate\n",
    "            offspring[i₁] = crossover(parent₁, parent₂)\n",
    "            offspring[i₂] = crossover(parent₁, parent₂)\n",
    "        end\n",
    "    end\n",
    "    \n",
    "    return offspring\n",
    "end"
   ]
  },
  {
   "cell_type": "markdown",
   "id": "68c315d2-2341-4079-a44b-d6506766740b",
   "metadata": {},
   "source": [
    "## Mutação"
   ]
  },
  {
   "cell_type": "code",
   "execution_count": 337,
   "id": "85d5b9f2-7956-40f5-91fb-e95b6d167e3f",
   "metadata": {},
   "outputs": [
    {
     "data": {
      "text/plain": [
       "0.2"
      ]
     },
     "execution_count": 337,
     "metadata": {},
     "output_type": "execute_result"
    }
   ],
   "source": [
    "initial_population_size = 100\n",
    "genome_size = 8\n",
    "max_iterations = 10\n",
    "crossover_rate = .2"
   ]
  },
  {
   "cell_type": "code",
   "execution_count": 338,
   "id": "c11f1ac1-3e64-410e-8ee7-9b17a5d99531",
   "metadata": {},
   "outputs": [
    {
     "name": "stdout",
     "output_type": "stream",
     "text": [
      "#0 Best fitness: 0.9999247018391445\t85\n",
      "#1 Best fitness: 0.9999247018391445\t85\n",
      "#2 Best fitness: 0.9987954562051724\t87\n",
      "#3 Best fitness: 0.9981181129001492\t82\n",
      "#4 Best fitness: 0.9939069700023561\t90\n",
      "#5 Best fitness: 0.9987954562051724\t87\n",
      "#6 Best fitness: 0.9987954562051724\t87\n",
      "#7 Best fitness: 0.9981181129001492\t82\n",
      "#8 Best fitness: 0.9981181129001492\t82\n",
      "#9 Best fitness: 0.9981181129001492\t82\n",
      "#10 Best fitness: 0.9939069700023561\t90\n"
     ]
    }
   ],
   "source": [
    "population = binary_to_gray_repr.(rand(0:255, initial_population_size))\n",
    "\n",
    "for i in 0:max_iterations\n",
    "    # map(x -> gray2bin[x], population)\n",
    "    fitness = example_program.(population)\n",
    "\n",
    "    best_individual = argmax(fitness)\n",
    "    fitnessₘₐₓ = fitness[best_individual]\n",
    "    println(\"#$i Best fitness: $fitnessₘₐₓ\\t$(gray2bin[population[best_individual]])\")\n",
    "    \n",
    "    parents = select(population, fitness)\n",
    "    population = breed(parents, crossover_rate)\n",
    "end"
   ]
  }
 ],
 "metadata": {
  "kernelspec": {
   "display_name": "Julia 1.6.3",
   "language": "julia",
   "name": "julia-1.6"
  },
  "language_info": {
   "file_extension": ".jl",
   "mimetype": "application/julia",
   "name": "julia",
   "version": "1.6.3"
  }
 },
 "nbformat": 4,
 "nbformat_minor": 5
}
