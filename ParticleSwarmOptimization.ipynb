{
 "cells": [
  {
   "cell_type": "markdown",
   "id": "210619d0-c7eb-467a-8093-38c3317e05cb",
   "metadata": {},
   "source": [
    "# Técnicsa de otimização bioinspiradas\n",
    "## Otimização de enxame de partículas"
   ]
  },
  {
   "cell_type": "code",
   "execution_count": 1,
   "id": "ce497ccb-7cda-4ba3-ab5c-99cc40051797",
   "metadata": {
    "tags": []
   },
   "outputs": [],
   "source": [
    "using Plots"
   ]
  },
  {
   "cell_type": "markdown",
   "id": "4b4e3fb4-24db-4cbf-bb40-14ae9c04fab9",
   "metadata": {
    "tags": []
   },
   "source": [
    "### Função objetivo"
   ]
  },
  {
   "cell_type": "code",
   "execution_count": 2,
   "id": "8c69a093-2b7a-4e35-ae66-3bd49ed812f1",
   "metadata": {},
   "outputs": [
    {
     "data": {
      "text/plain": [
       "rastrigin (generic function with 2 methods)"
      ]
     },
     "execution_count": 2,
     "metadata": {},
     "output_type": "execute_result"
    }
   ],
   "source": [
    "function rastrigin(x, A=10)\n",
    "    return A * length(x) + sum(x.^2.0 - A * cos.(2π * x))\n",
    "end"
   ]
  },
  {
   "cell_type": "markdown",
   "id": "a3df2407-faa3-4919-8c3f-6ffe558f7e8d",
   "metadata": {},
   "source": [
    "### PSO"
   ]
  },
  {
   "cell_type": "code",
   "execution_count": 17,
   "id": "3079f230-3f3f-431b-99a6-7a8e15aa39e5",
   "metadata": {},
   "outputs": [
    {
     "data": {
      "text/plain": [
       "pso (generic function with 4 methods)"
      ]
     },
     "execution_count": 17,
     "metadata": {},
     "output_type": "execute_result"
    }
   ],
   "source": [
    "function pso(cost_function, particles, domain, max_iterations, w = 0.5, c1 = 2.0, c2 = 2.0)\n",
    "    dim = length(domain)\n",
    "    \n",
    "    # Initialization\n",
    "    position = rand(particles, dim)\n",
    "    for i = 1:size(position)[2]\n",
    "        position[:, i] = position[:, i] * (domain[i].stop - domain[i].start) .+ domain[i].start\n",
    "    end\n",
    "    velocity = rand(particles, dim)\n",
    "    \n",
    "    best_local_fitness = 1000 * ones(particles)\n",
    "    best_local = copy(position)\n",
    "    \n",
    "    best_global_fitness = -1000\n",
    "    best_global = zeros(1, dim)\n",
    "    history = zeros(particles)\n",
    "    \n",
    "    @gif for iter = 1:max_iterations\n",
    "        # Fitness evaluation\n",
    "        fitness = map(cost_function, eachrow(position))\n",
    "        best_index = argmax(fitness)\n",
    "        if fitness[best_index] > best_global_fitness\n",
    "            best_global_fitness = fitness[best_index]\n",
    "            best_global = reshape(position[best_index, :], (1, dim))\n",
    "        end\n",
    "        \n",
    "        local_better = best_local_fitness .> fitness\n",
    "        best_local[local_better, :] .= position[local_better, :]\n",
    "    \n",
    "        # Particle update\n",
    "        velocity = w * velocity + c1 * rand() * (best_local - position) + c2 * rand() * (-position .+ best_global)\n",
    "        position += velocity\n",
    "        \n",
    "        history[iter] = best_global_fitness\n",
    "        \n",
    "        x = domain[1].start:0.1:domain[1].stop\n",
    "        y = domain[2].start:0.1:domain[2].stop\n",
    "        contour(x, y, (x, y) -> cost_function([x, y]), c = :bluesreds)\n",
    "        plot!(position[:, 1], position[:, 2], seriestype = :scatter, label = \"Particles\")\n",
    "        plot!(best_local[:, 1], best_local[:, 2], seriestype = :scatter, label = \"Best local\")\n",
    "        title!(\"Iteration #$iter\")\n",
    "        p1 = plot!([best_global[1]], [best_global[2]], seriestype = :scatter, label = \"Best global\")\n",
    "        plot(1:iter, history[1:iter])\n",
    "        p2 = title!(\"Best fitness: $best_global_fitness\")\n",
    "        \n",
    "        plot(p1, p2, size=(1000, 400))\n",
    "    end\n",
    "    \n",
    "    println(\"Best fitness: $best_global_fitness at $best_global\")\n",
    "end"
   ]
  },
  {
   "cell_type": "code",
   "execution_count": 19,
   "id": "80b1f9e6-2550-4963-a687-45adb1d3cffb",
   "metadata": {},
   "outputs": [
    {
     "name": "stdout",
     "output_type": "stream",
     "text": [
      "Best fitness: -3.779945245696581e-9 at [-4.302581200759456e-6 -7.353203044856408e-7]\n"
     ]
    },
    {
     "name": "stderr",
     "output_type": "stream",
     "text": [
      "┌ Info: Saved animation to \n",
      "│   fn = C:\\Users\\vnrju\\Documents\\Bioinspiradas\\tmp.gif\n",
      "└ @ Plots C:\\Users\\vnrju\\.julia\\packages\\Plots\\1RWWg\\src\\animation.jl:114\n"
     ]
    }
   ],
   "source": [
    "pso(x -> -rastrigin(x), 50, [-10:10 for _ in 1:2], 50, 0.5, 2, 2)"
   ]
  },
  {
   "cell_type": "markdown",
   "id": "2e796e1b-0b93-4992-81e8-bea97d4fcb14",
   "metadata": {},
   "source": [
    "### Resultado\n",
    "<img src=\"tmp.gif\">"
   ]
  },
  {
   "cell_type": "code",
   "execution_count": null,
   "id": "35052288-4cfe-46e7-818b-386ef413cf12",
   "metadata": {},
   "outputs": [],
   "source": []
  }
 ],
 "metadata": {
  "kernelspec": {
   "display_name": "Julia 1.6.3",
   "language": "julia",
   "name": "julia-1.6"
  },
  "language_info": {
   "file_extension": ".jl",
   "mimetype": "application/julia",
   "name": "julia",
   "version": "1.6.3"
  }
 },
 "nbformat": 4,
 "nbformat_minor": 5
}
