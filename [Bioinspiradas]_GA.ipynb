{
  "nbformat": 4,
  "nbformat_minor": 0,
  "metadata": {
    "colab": {
      "name": "[Bioinspiradas] GA.ipynb",
      "provenance": [],
      "collapsed_sections": [],
      "include_colab_link": true
    },
    "kernelspec": {
      "name": "python3",
      "display_name": "Python 3"
    }
  },
  "cells": [
    {
      "cell_type": "markdown",
      "metadata": {
        "id": "view-in-github",
        "colab_type": "text"
      },
      "source": [
        "<a href=\"https://colab.research.google.com/github/valeriojr/OtimizacaoBioinspirada/blob/main/%5BBioinspiradas%5D_GA.ipynb\" target=\"_parent\"><img src=\"https://colab.research.google.com/assets/colab-badge.svg\" alt=\"Open In Colab\"/></a>"
      ]
    },
    {
      "cell_type": "markdown",
      "metadata": {
        "id": "NhOeLlsRox0v"
      },
      "source": [
        "Alterações realizadas no código\n",
        "\n",
        "*   Separar imports para adicionar código\n",
        "*   **1. Mudar a representação de binário para \"Gray coding\" (slides 30 e 31)**\n",
        "    *       Adiciona a função `gray_repr` que converte uma *string* no formato binário para o equivalente na codificação de Gray\n",
        "    *       Função `convertToGray` para converter uma população para a codificação de Gray\n",
        "    *       Adiciona a chamada da função `convertToGray` para converter a população gerada na função `initialPopulation`\n",
        "*    **2. Trocar a seleção dos pais para ser feito por meio de “Tournament selection” (slide 37)**\n",
        "    *       Adiciona a função `tournament_selection`\n",
        "    *       Altera o método de seleção de `parents_selection` para `tournment_selection` na linha 12 de https://colab.research.google.com/drive/1wS29O64GJ--rCtCOQgnVAyP6pnViV41b#scrollTo=zel-fczmtYrB&line=9&uniqifier=1 \n",
        "*    **3. Trocar o crossover de dois pontos para o \"Uniform crossover\"**\n",
        "    *       Adiciona a função `uniform_crossover`\n",
        "    *       Altera o método de cruzamento de `crossover` para `uniform_crossover` na linha 14 de https://colab.research.google.com/drive/1wS29O64GJ--rCtCOQgnVAyP6pnViV41b#scrollTo=zel-fczmtYrB&line=14&uniqifier=1\n",
        "*    **4. Criar script que executa o GA com população de 10, 15 e 20 indivíduos.**\n",
        "    *         "
      ]
    },
    {
      "cell_type": "code",
      "metadata": {
        "id": "uQqH1mqSZXzv"
      },
      "source": [
        "import random\n",
        "import numpy as np\n",
        "import math as math\n",
        "import itertools"
      ],
      "execution_count": 42,
      "outputs": []
    },
    {
      "cell_type": "code",
      "metadata": {
        "colab": {
          "base_uri": "https://localhost:8080/"
        },
        "id": "RlSbbxyZpMOS",
        "outputId": "f19395d1-3a21-4ed9-8586-bdf3f6d27fba"
      },
      "source": [
        "def gray_repr(var, width):\n",
        "  bits = range(1, len(var))\n",
        "  msb = var.find('1')\n",
        "  gray = [var[0], *('1' if var[i] != var[i - 1] else '0' for i in bits)]\n",
        "  gray[msb] = var[msb]\n",
        "  return ''.join(gray)\n",
        "\n",
        "def convertToGray(population, width):\n",
        "  args = zip(population, itertools.cycle([width]))\n",
        "  return list(map(lambda args: gray_repr(args[0], args[1]), args))\n",
        "  \n",
        "convertToGray(['0000', '0101', '1000', '0010', '0110'], 8)"
      ],
      "execution_count": 43,
      "outputs": [
        {
          "output_type": "execute_result",
          "data": {
            "text/plain": [
              "['0000', '0111', '1100', '0011', '0101']"
            ]
          },
          "metadata": {},
          "execution_count": 43
        }
      ]
    },
    {
      "cell_type": "code",
      "metadata": {
        "id": "BpPPp4xepJ5f"
      },
      "source": [
        "def converToBin(population,width):\n",
        "  populationBin = []\n",
        "  for individual in population:\n",
        "    varBin = ''\n",
        "    for variable in individual:\n",
        "      varBin += np.binary_repr(variable, width) #vetor de caracter '0' ou '1'\n",
        "    populationBin.append(varBin)\n",
        "  return populationBin\n",
        "\n",
        "def initialPopulation(populationSize, upperBound, lowerBound, bitWidth):\n",
        "  population = []\n",
        "  numberVar = len(upperBound)\n",
        "  for i in range(populationSize):\n",
        "    individual = []\n",
        "    for v in range(numberVar):\n",
        "      individual.append(random.randint(lowerBound[v], upperBound[v]))\n",
        "    population.append(individual)\n",
        "  return convertToGray(converToBin(population,bitWidth), bitWidth)"
      ],
      "execution_count": 44,
      "outputs": []
    },
    {
      "cell_type": "code",
      "metadata": {
        "id": "sf-acuwZkerA"
      },
      "source": [
        "def exampleProblem(individual):\n",
        "  value = int(individual, 2)\n",
        "  return math.sin(math.pi*value/256)\n",
        "\n",
        "def avalFitness(population):\n",
        "    populationFitness = []\n",
        "    for individual in population:        \n",
        "      populationFitness.append(exampleProblem(individual))\n",
        "    return populationFitness"
      ],
      "execution_count": 45,
      "outputs": []
    },
    {
      "cell_type": "code",
      "metadata": {
        "id": "E_eQuAGIly8A"
      },
      "source": [
        "# REPRODUCAO\n",
        "def normalizeFitness(populationFitness):\n",
        "  fitnessSum = sum(populationFitness)\n",
        "  norm_fitness = []\n",
        "  for fitness in populationFitness:\n",
        "    norm_fitness.append(fitness/fitnessSum)\n",
        "  return norm_fitness\n",
        "\n",
        "def cumulativeFitness(normalizedFitness):\n",
        "    cumulativeFitness = []\n",
        "    cumulative = 0\n",
        "    for fitness in normalizedFitness:\n",
        "        cumulative = fitness + cumulative\n",
        "        cumulativeFitness.append(cumulative)\n",
        "    return cumulativeFitness\n",
        "\n",
        "def parents_selection(population, populationFitness):\n",
        "  normalizedFitness = normalizeFitness(populationFitness)\n",
        "  cFitness = cumulativeFitness(normalizedFitness)\n",
        "  parents = []\n",
        "\n",
        "  for i in range(len(population)):\n",
        "    rand = random.random()\n",
        "    for j in range(len(cFitness)):\n",
        "      if cFitness[j] >= rand:\n",
        "        parents.append(population[j])\n",
        "        break\n",
        "\n",
        "  return parents\n",
        "\n",
        "def tournament_selection(population, populationFitness):\n",
        "  # Cria os indices de cada individuo: 0, 1, ..., (#population - 1) e \n",
        "  # embaralha esses indices (serão divididos em 2 equipes)\n",
        "  pairs = np.arange(len(population))\n",
        "  np.random.shuffle(pairs)\n",
        "  # Quantidade de membros em cada equipe (caso o numero de participantes seja\n",
        "  # impar o ultimo será descartado)\n",
        "  split = len(pairs) // 2\n",
        "  # Filtra os individuos no mata mata: pega um membro de cada equipe e o que\n",
        "  # tiver maior fitness vence e é selecionado\n",
        "  return [population[individualA] if populationFitness[individualA] > populationFitness[individualB] else population[individualB]\n",
        "    for individualA, individualB in zip(pairs[:split], pairs[split:])]\n",
        "\n"
      ],
      "execution_count": 54,
      "outputs": []
    },
    {
      "cell_type": "code",
      "metadata": {
        "id": "6rsWRDsXmcgA"
      },
      "source": [
        "#CRUZAMENTO\n",
        "def selectPairs(parents):\n",
        "  pairs = []\n",
        "  for i in range(int(len(parents)/2)):\n",
        "    pair = []\n",
        "    pair.append(parents[random.randint(0,len(parents)-1)])\n",
        "    pair.append(parents[random.randint(0,len(parents)-1)])\n",
        "    pairs.append(pair)\n",
        "  return pairs\n",
        "\n",
        "def crossover(parents, crossoverProbability):\n",
        "  pairs = selectPairs(parents)\n",
        "  newPopulation = []\n",
        "  for pair in pairs: \n",
        "    breakpoint1 = random.randint(1, len(pair[0])-1)\n",
        "    breakpoint2 = random.randint(1, len(pair[0])-1)\n",
        "\n",
        "    while breakpoint1 == breakpoint2:\n",
        "      breakpoint2 = random.randint(1, len(pair[0]))\n",
        "    \n",
        "    if (random.random() > crossoverProbability): \n",
        "      newPopulation.append(pair[0])\n",
        "      newPopulation.append(pair[1])\n",
        "      continue\n",
        "\n",
        "    if breakpoint1 < breakpoint2: \n",
        "      offspring1 = pair[0][0:breakpoint1] + pair[1][breakpoint1:breakpoint2] + pair[0][breakpoint2:]\n",
        "      offspring2 = pair[1][0:breakpoint1] + pair[0][breakpoint1:breakpoint2] + pair[1][breakpoint2:]\n",
        "    else:\n",
        "      offspring1 = pair[1][0:breakpoint2] + pair[0][breakpoint2:breakpoint1] + pair[1][breakpoint1:]\n",
        "      offspring2 = pair[0][0:breakpoint2] + pair[1][breakpoint2:breakpoint1] + pair[0][breakpoint1:]\n",
        "    \n",
        "    newPopulation.append(offspring1)\n",
        "    newPopulation.append(offspring2)\n",
        "      \n",
        "  return newPopulation\n",
        "\n",
        "def uniform_crossover(parents, crossoverProbability):\n",
        "  def do_crossover(individualA, individualB):\n",
        "      newIndividualA, newIndividualB = [], []\n",
        "      for geneA, geneB in zip(individualA, individualB):\n",
        "        if random.random() > 0.5:\n",
        "            geneA, geneB = geneB, geneA\n",
        "        \n",
        "        newIndividualA.append(geneA)\n",
        "        newIndividualB.append(geneB)\n",
        "      \n",
        "      return ''.join(newIndividualA), ''.join(newIndividualB)\n",
        "\n",
        "  pairs = selectPairs(parents)\n",
        "  keep_original = [random.range() > crossoverProbability for _ in range(len(pairs))]\n",
        "  return [pair if keep_original[i] else do_crossover(*pair) for i, pair in enumerate(pairs)]"
      ],
      "execution_count": 47,
      "outputs": []
    },
    {
      "cell_type": "code",
      "metadata": {
        "id": "r_ffAPw1qgzZ"
      },
      "source": [
        "#MUTAÇÃO\n",
        "def mutation(population,mutationProbability):\n",
        "  newPop = []\n",
        "  for individual in population:\n",
        "    listInd = list(individual)\n",
        "    for i in range(len(listInd)):    \n",
        "      if random.random() < mutationProbability:\n",
        "        if listInd[i] == '0':\n",
        "          listInd[i] = '1'\n",
        "        else:\n",
        "          listInd[i] = '0'\n",
        "    newPop.append(''.join(listInd))\n",
        "  return newPop"
      ],
      "execution_count": 48,
      "outputs": []
    },
    {
      "cell_type": "code",
      "metadata": {
        "id": "zel-fczmtYrB"
      },
      "source": [
        "def GA(upperBound,lowerBound,bitWidth=8,max_iterations=20,crossoverProb=0.8,mutationProb=0.01,populationSize=50):\n",
        "  #gerar populacao inicial\n",
        "  population = initialPopulation(populationSize,upperBound,lowerBound,bitWidth)\n",
        "  current_iteration = 0\n",
        "  while(current_iteration < max_iterations):\n",
        "    #avaliar o fitness\n",
        "    populationFitness = avalFitness(population)\n",
        "\n",
        "    print('#', current_iteration, ' Best fitness = ', max(populationFitness), '  ', int(population[populationFitness.index(max(populationFitness))], base=2))\n",
        "\n",
        "  \t#selecao dos pais\n",
        "    parents = tournament_selection(population,populationFitness)\n",
        "  \t#cruzamento\n",
        "    population = uniform_crossover(parents, crossoverProb)\n",
        "  \t#mutação\n",
        "    population = mutation(population, mutationProb)\n",
        "  \t\n",
        "    current_iteration += 1\n",
        "  return"
      ],
      "execution_count": 50,
      "outputs": []
    },
    {
      "cell_type": "code",
      "metadata": {
        "id": "EgVPMm13bH_O"
      },
      "source": [
        "lowerBound = [0]\n",
        "upperBound = [256]\n",
        "for i, populationSize in enumerate([10, 15, 20]):\n",
        "    print(f'Run #{i}\\nPopulation Size: {populationSize}\\n')\n",
        "    GA(upperBound,lowerBound,populationSize=8)"
      ],
      "execution_count": null,
      "outputs": []
    },
    {
      "cell_type": "code",
      "metadata": {
        "id": "3EiyHTkUb0wm"
      },
      "source": [
        ""
      ],
      "execution_count": null,
      "outputs": []
    }
  ]
}